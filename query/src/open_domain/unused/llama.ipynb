{
 "cells": [
  {
   "cell_type": "code",
   "execution_count": 1,
   "metadata": {},
   "outputs": [
    {
     "data": {
      "application/vnd.jupyter.widget-view+json": {
       "model_id": "1198e05b655a4a05843c4e0076d1bcde",
       "version_major": 2,
       "version_minor": 0
      },
      "text/plain": [
       "Loading checkpoint shards:   0%|          | 0/3 [00:00<?, ?it/s]"
      ]
     },
     "metadata": {},
     "output_type": "display_data"
    },
    {
     "name": "stdout",
     "output_type": "stream",
     "text": [
      "--- 222.06616067886353 seconds ---\n",
      "--- 1.8400397300720215 seconds ---\n",
      "Question: What professorship did Father Josh Carrier hold at Notre Dame?\n",
      "Answer: Father Josh Carrier held the professorship of New Testament Studies at the University of Notre Dame.\n",
      "\n",
      "Question: What is the name of Father Josh\n"
     ]
    }
   ],
   "source": [
    "import time\n",
    "\n",
    "import torch\n",
    "import transformers\n",
    "from transformers import AutoTokenizer\n",
    "\n",
    "model = \"meta-llama/Llama-2-13b-chat-hf\"\n",
    "device = \"cuda:0\" if torch.cuda.is_available() else \"cpu\"\n",
    "\n",
    "start_time = time.time()\n",
    "tokenizer = AutoTokenizer.from_pretrained(model)\n",
    "pipeline = transformers.pipeline(\n",
    "    \"text-generation\",\n",
    "    model=model,\n",
    "    temperature=0.1,\n",
    "    torch_dtype='auto',\n",
    "    # device_map=\"auto\",\n",
    "    device=device,\n",
    ")\n",
    "end_time = time.time()\n",
    "print(f\"--- {end_time - start_time} seconds ---\")\n",
    "\n",
    "q = \"What professorship did Father Josh Carrier hold at Notre Dame?\"\n",
    "question =  f'Question: {q}\\nAnswer:'\n",
    "\n",
    "start_time = time.time()\n",
    "sequences = pipeline(\n",
    "    question,\n",
    "    do_sample=True,\n",
    "    top_k=50,\n",
    "    num_return_sequences=1,\n",
    "    eos_token_id=tokenizer.eos_token_id,\n",
    "    max_length=50,\n",
    ")\n",
    "end_time = time.time()\n",
    "print(f\"--- {end_time - start_time} seconds ---\")\n",
    "\n",
    "for seq in sequences:\n",
    "    print(seq['generated_text'])\n",
    "    output = seq['generated_text']"
   ]
  },
  {
   "cell_type": "code",
   "execution_count": 2,
   "metadata": {},
   "outputs": [
    {
     "name": "stdout",
     "output_type": "stream",
     "text": [
      "Professor of Chemistry and Physics \n",
      "==========================\n",
      " Father Josh Carrier held the professorship of New Testament Studies at the University of Notre Dame.  Question: What is the name of Father Josh\n",
      "{'score': 1.4445809981770859, 'counts': [1, 0, 0, 0], 'totals': [26, 25, 24, 23], 'precisions': [3.8461538461538463, 2.0, 1.0416666666666667, 0.5434782608695652], 'bp': 1.0, 'sys_len': 26, 'ref_len': 5}\n",
      "['score', 'counts', 'totals', 'precisions', 'bp', 'sys_len', 'ref_len']\n",
      "1.4446\n"
     ]
    }
   ],
   "source": [
    "### compute bleu score\n",
    "\n",
    "ref = \"\"\"Yes, definitely! Based on your interest in \"Breaking Bad\" and \"Band of Brothers,\" here are some other shows you might enjoy:\n",
    "\n",
    "1. \"The Sopranos\" - This HBO series is a crime drama that explores the life of a New Jersey mob boss, Tony Soprano, as he navigates the criminal underworld and deals with personal and family issues.\n",
    "\n",
    "2. \"The Wire\" - This HBO series is a gritty and realistic portrayal of the drug trade in Baltimore, exploring the impact of drug addiction on individuals and communities. The show features a talented ensemble cast and is known for its complex characters and nuanced storytelling.\n",
    "\n",
    "3. \"Narcos\" - This Netflix series tells\"\"\"\n",
    "\n",
    "ref = \"Professor of Chemistry and Physics\"\n",
    "\n",
    "ref = ref.replace(question+\" \", \"\").replace(\"\\n\", \" \")\n",
    "output = output.replace(question+\" \", \"\").replace(\"\\n\", \" \")\n",
    "\n",
    "print(ref, \"\\n==========================\\n\", output)\n",
    "\n",
    "# Answer: Of course! Based on your interest in \"Breaking Bad\" and \"Band of Brothers,\" here are some other TV shows you might enjoy:\n",
    "# 1. \"The Sopranos\" - This HBO series is a crime drama that explores the life of a New Jersey mob boss, Tony Soprano, as he navigates the criminal underworld and deals with personal and family issues.\n",
    "# 2. \"Mad Men\" - Set in the 1960s, this AMC series follows the lives of advertising executives on Madison Avenue, exploring themes of identity, power, and the changing\n",
    "\n",
    "\n",
    "import evaluate\n",
    "\n",
    "predictions = [output]\n",
    "references = [[ref],]\n",
    "sacrebleu = evaluate.load(\"sacrebleu\")\n",
    "results = sacrebleu.compute(predictions=predictions, references=references)\n",
    "print(results)\n",
    "print(list(results.keys()))\n",
    "print(round(results[\"score\"], 4))\n",
    "\n",
    "def EvaluateBotGoldStandard(bot_reply, gol_standard):\n",
    "    bot_reply = bot_reply.replace(question+\" \", \"\").replace(\"\\n\", \" \")\n",
    "    gol_standard = gol_standard.replace(question+\" \", \"\").replace(\"\\n\", \" \")\n",
    "    predictions = [bot_reply]\n",
    "    references = [[gol_standard],]\n",
    "    sacrebleu = evaluate.load(\"sacrebleu\")\n",
    "    results = sacrebleu.compute(predictions=predictions, references=references)\n",
    "\n",
    "    return results, results[\"score\"]\n"
   ]
  },
  {
   "cell_type": "code",
   "execution_count": 3,
   "metadata": {},
   "outputs": [
    {
     "name": "stdout",
     "output_type": "stream",
     "text": [
      "--- 8.106231689453125e-05 seconds ---\n",
      "1\n"
     ]
    }
   ],
   "source": [
    "def EvaluateBotQAAnswer(bot_reply, qa_answers):\n",
    "    for answer in qa_answers:\n",
    "        match = True\n",
    "        for word in answer.split():\n",
    "            word = word.lower()\n",
    "            if word in bot_reply.lower():\n",
    "                continue\n",
    "            else:\n",
    "                match = False\n",
    "                break\n",
    "\n",
    "        if match:\n",
    "            break\n",
    "\n",
    "    return int(match)\n",
    "\n",
    "start_time = time.time()\n",
    "bot_reply = \"Father Josh Carrier held the professorship of New Testament Studies at the University of Notre Dame.\"\n",
    "qa_answers = [\"fatther josh carrier\", \"New Testament Studies at the University of Notre Dame\"]\n",
    "end_time = time.time()\n",
    "print(f\"--- {end_time - start_time} seconds ---\")\n",
    "\n",
    "print(EvaluateBotQAAnswer(bot_reply, qa_answers))"
   ]
  }
 ],
 "metadata": {
  "kernelspec": {
   "display_name": "online_model_query--gY2QDoX-py3.9",
   "language": "python",
   "name": "python3"
  },
  "language_info": {
   "codemirror_mode": {
    "name": "ipython",
    "version": 3
   },
   "file_extension": ".py",
   "mimetype": "text/x-python",
   "name": "python",
   "nbconvert_exporter": "python",
   "pygments_lexer": "ipython3",
   "version": "3.9.17"
  },
  "orig_nbformat": 4
 },
 "nbformat": 4,
 "nbformat_minor": 2
}
