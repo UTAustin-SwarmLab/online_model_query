{
   "cells": [
      {
         "cell_type": "code",
         "execution_count": 2,
         "metadata": {},
         "outputs": [
            {
               "name": "stdout",
               "output_type": "stream",
               "text": [
                  "Qids:  94145\n"
               ]
            }
         ],
         "source": [
            "import json\n",
            "\n",
            "json_path = \"../../../synced_data/ShareGPT_V3_unfiltered_cleaned_split_no_imsorry.json\"\n",
            "# json_path = \"./test.json\"\n",
            "\n",
            "with open(json_path, \"r\") as f:\n",
            "    sharegpt = json.load(f)\n",
            "# print(sharegpt)\n",
            "print(\"Qids: \", len(sharegpt))"
         ]
      },
      {
         "cell_type": "code",
         "execution_count": 3,
         "metadata": {},
         "outputs": [
            {
               "name": "stdout",
               "output_type": "stream",
               "text": [
                  "50142\n",
                  "conver:  {'from': 'human', 'value': \"Summarize the main ideas of Jeff Walker's Product Launch Formula into bullet points as it pertains to a growth marketing agency implementing these strategies and tactics for their clients...\"}\n",
                  "conver:  {'from': 'gpt', 'value': \"Here are the main ideas of Jeff Walker's Product Launch Formula that can be applied by a growth marketing agency for their clients:\\n\\n1. Identify the target audience and their needs: Understand the ideal customer for the product or service, and create a messaging that resonates with them.\\n2. Pre-launch: Build anticipation and excitement for the launch by creating buzz, gathering testimonials and case studies, and using social media to create awareness.\\n3. Launch: Use a well-crafted launch sequence to maximize sales and conversions. This can include offering bonuses, creating scarcity, and using a deadline to create urgency.\\n4. Post-launch: Follow up with customers, gather feedback, and continue to provide value to keep them engaged and loyal.\\n5. Create a product suite: Once the initial product is successful, expand the offering by creating additional products or services that address other needs of the same audience.\\n6. Continual optimization: Continually monitor and optimize the launch process and product suite to improve results.\\n7. Build a community: Use the launch process to build a community of customers who are passionate about the product and can help spread the word.\\n8. Use automation: Use technology and automation to streamline the launch process and improve efficiency.\"}\n",
                  "conver:  {'from': 'human', 'value': \"Summarize the main ideas of Brendon Burchard's Experts Academy into bullet points as it pertains to a growth marketing agency implementing these strategies and tactics for their clients...\"}\n"
               ]
            }
         ],
         "source": [
            "### merge conversations by its user id\n",
            "merge_conversations = {}\n",
            "for item in sharegpt:\n",
            "    user_id = item[\"id\"].split(\"_\")[0]\n",
            "    if user_id not in merge_conversations:\n",
            "        merge_conversations[user_id] = item[\"conversations\"]\n",
            "    else:\n",
            "        merge_conversations[user_id] += item[\"conversations\"]\n",
            "\n",
            "# concated_conversations = []\n",
            "# for k, v in merge_conversations.items():\n",
            "#     concated_conversations[k] = \n",
            "\n",
            "print(len(merge_conversations))\n",
            "print(\"conver: \", merge_conversations[\"QWJhYvA\"][0])\n",
            "print(\"conver: \", merge_conversations[\"QWJhYvA\"][1])\n",
            "print(\"conver: \", merge_conversations[\"QWJhYvA\"][2])\n"
         ]
      },
      {
         "cell_type": "code",
         "execution_count": 4,
         "metadata": {},
         "outputs": [
            {
               "name": "stdout",
               "output_type": "stream",
               "text": [
                  "Dict Questions: 50142\n",
                  "Dict Answers: 50142\n",
                  "Questions:  330244\n",
                  "Answers:  330244\n"
               ]
            }
         ],
         "source": [
            "question = {}\n",
            "answer = {}\n",
            "all_q = []\n",
            "all_a = []\n",
            "cnt = 0\n",
            "for user_id, conversations in merge_conversations.items():\n",
            "    # print(user_id, len(conversations))\n",
            "    prev_from = ''\n",
            "    q, a = [], []\n",
            "\n",
            "    for conver in conversations:\n",
            "        c = conver[\"value\"]\n",
            "\n",
            "        if cnt % 2 == 0 and conver[\"from\"] != 'human':  # first conversation should be from human\n",
            "            # print(\"Error    : \", id , cnt)\n",
            "            continue\n",
            "        if c == \"\":  # empty string\n",
            "            continue\n",
            "            \n",
            "        c = c.replace(\"\\n\", \" \")\n",
            "\n",
            "        if conver[\"from\"] == 'human':\n",
            "            if prev_from == 'human':\n",
            "                q[-1] += \" \" + c\n",
            "            else:\n",
            "                q.append(c)\n",
            "                cnt += 1\n",
            "            prev_from = 'human'\n",
            "        elif conver[\"from\"] == 'gpt' or conver[\"from\"] == 'bing' or \\\n",
            "            conver[\"from\"] == 'chatgpt' or conver[\"from\"] == \"bard\":\n",
            "            # print(\"id\", item[\"id\"], prev_from)\n",
            "            # print(len(a))\n",
            "            if prev_from == 'human':\n",
            "                a.append(c)\n",
            "                cnt += 1\n",
            "            # else:\n",
            "                # a[-1] += \" \" + c\n",
            "            prev_from = ''\n",
            "        else:\n",
            "            raise Exception(\"Unknown conversation from: \", conver[\"from\"])\n",
            "\n",
            "    min_len = min(len(q), len(a))\n",
            "    q = q[:min_len]\n",
            "    a = a[:min_len]\n",
            "\n",
            "    question[user_id] = q\n",
            "    answer[user_id] = a\n",
            "    all_q += q\n",
            "    all_a += a\n",
            "\n",
            "print(\"Dict Questions:\", len(question))\n",
            "print(\"Dict Answers:\", len(answer))\n",
            "print(\"Questions: \", len(all_q))\n",
            "print(\"Answers: \", len(all_a))\n"
         ]
      },
      {
         "cell_type": "code",
         "execution_count": 5,
         "metadata": {},
         "outputs": [],
         "source": [
            "# from sacrerouge.metrics import Rouge\n",
            "\n",
            "# summary = 'Dan walked to the bakery this morning.'\n",
            "# reference = 'Dan went to buy scones earlier this morning.'\n",
            "\n",
            "# rouge = Rouge(max_ngram=2)\n",
            "# rouge.score(summary, [reference])"
         ]
      }
   ],
   "metadata": {
      "kernelspec": {
         "display_name": "online_model_query--gY2QDoX-py3.9",
         "language": "python",
         "name": "python3"
      },
      "language_info": {
         "codemirror_mode": {
            "name": "ipython",
            "version": 3
         },
         "file_extension": ".py",
         "mimetype": "text/x-python",
         "name": "python",
         "nbconvert_exporter": "python",
         "pygments_lexer": "ipython3",
         "version": "3.9.17"
      },
      "orig_nbformat": 4
   },
   "nbformat": 4,
   "nbformat_minor": 2
}
